{
 "cells": [
  {
   "cell_type": "markdown",
   "id": "7b719e6d",
   "metadata": {},
   "source": [
    "# Парсинг текста"
   ]
  },
  {
   "cell_type": "code",
   "execution_count": 1,
   "id": "01218871",
   "metadata": {},
   "outputs": [],
   "source": [
    "#Загрузка библиотек\n",
    "import spacy\n",
    "import pandas as pd\n",
    "import numpy as np\n",
    "import re"
   ]
  },
  {
   "cell_type": "code",
   "execution_count": 2,
   "id": "003bc9f6",
   "metadata": {},
   "outputs": [
    {
     "data": {
      "text/html": [
       "<div>\n",
       "<style scoped>\n",
       "    .dataframe tbody tr th:only-of-type {\n",
       "        vertical-align: middle;\n",
       "    }\n",
       "\n",
       "    .dataframe tbody tr th {\n",
       "        vertical-align: top;\n",
       "    }\n",
       "\n",
       "    .dataframe thead th {\n",
       "        text-align: right;\n",
       "    }\n",
       "</style>\n",
       "<table border=\"1\" class=\"dataframe\">\n",
       "  <thead>\n",
       "    <tr style=\"text-align: right;\">\n",
       "      <th></th>\n",
       "      <th>dlg_id</th>\n",
       "      <th>line_n</th>\n",
       "      <th>role</th>\n",
       "      <th>text</th>\n",
       "    </tr>\n",
       "  </thead>\n",
       "  <tbody>\n",
       "    <tr>\n",
       "      <th>0</th>\n",
       "      <td>0</td>\n",
       "      <td>0</td>\n",
       "      <td>client</td>\n",
       "      <td>Алло</td>\n",
       "    </tr>\n",
       "    <tr>\n",
       "      <th>1</th>\n",
       "      <td>0</td>\n",
       "      <td>1</td>\n",
       "      <td>manager</td>\n",
       "      <td>Алло здравствуйте</td>\n",
       "    </tr>\n",
       "    <tr>\n",
       "      <th>2</th>\n",
       "      <td>0</td>\n",
       "      <td>2</td>\n",
       "      <td>client</td>\n",
       "      <td>Добрый день</td>\n",
       "    </tr>\n",
       "    <tr>\n",
       "      <th>3</th>\n",
       "      <td>0</td>\n",
       "      <td>3</td>\n",
       "      <td>manager</td>\n",
       "      <td>Меня зовут ангелина компания диджитал бизнес з...</td>\n",
       "    </tr>\n",
       "    <tr>\n",
       "      <th>4</th>\n",
       "      <td>0</td>\n",
       "      <td>4</td>\n",
       "      <td>client</td>\n",
       "      <td>Ага</td>\n",
       "    </tr>\n",
       "  </tbody>\n",
       "</table>\n",
       "</div>"
      ],
      "text/plain": [
       "   dlg_id  line_n     role                                               text\n",
       "0       0       0   client                                               Алло\n",
       "1       0       1  manager                                  Алло здравствуйте\n",
       "2       0       2   client                                        Добрый день\n",
       "3       0       3  manager  Меня зовут ангелина компания диджитал бизнес з...\n",
       "4       0       4   client                                                Ага"
      ]
     },
     "execution_count": 2,
     "metadata": {},
     "output_type": "execute_result"
    }
   ],
   "source": [
    "#Загрузка датасета\n",
    "df = pd.read_csv('test_data.csv')\n",
    "df.head()"
   ]
  },
  {
   "cell_type": "code",
   "execution_count": 3,
   "id": "80dfca9e",
   "metadata": {},
   "outputs": [],
   "source": [
    "#pip install -U spacy"
   ]
  },
  {
   "cell_type": "code",
   "execution_count": 4,
   "id": "07a48ab4",
   "metadata": {},
   "outputs": [],
   "source": [
    "# Загрузка русской NLP-модели\n",
    "nlp = spacy.load(\"ru_core_news_sm\")"
   ]
  },
  {
   "cell_type": "code",
   "execution_count": 5,
   "id": "b997ddaa",
   "metadata": {},
   "outputs": [],
   "source": [
    "# Парсинг текста с помощью spaCy. Эта команда запускает целый конвейер\n",
    "df['text_parsed'] = df['text'].apply(nlp)"
   ]
  },
  {
   "cell_type": "code",
   "execution_count": 6,
   "id": "a876ba42",
   "metadata": {},
   "outputs": [
    {
     "data": {
      "text/html": [
       "<div>\n",
       "<style scoped>\n",
       "    .dataframe tbody tr th:only-of-type {\n",
       "        vertical-align: middle;\n",
       "    }\n",
       "\n",
       "    .dataframe tbody tr th {\n",
       "        vertical-align: top;\n",
       "    }\n",
       "\n",
       "    .dataframe thead th {\n",
       "        text-align: right;\n",
       "    }\n",
       "</style>\n",
       "<table border=\"1\" class=\"dataframe\">\n",
       "  <thead>\n",
       "    <tr style=\"text-align: right;\">\n",
       "      <th></th>\n",
       "      <th>dlg_id</th>\n",
       "      <th>line_n</th>\n",
       "      <th>role</th>\n",
       "      <th>text</th>\n",
       "      <th>text_parsed</th>\n",
       "    </tr>\n",
       "  </thead>\n",
       "  <tbody>\n",
       "    <tr>\n",
       "      <th>475</th>\n",
       "      <td>5</td>\n",
       "      <td>138</td>\n",
       "      <td>manager</td>\n",
       "      <td>По поводу виджетов и с ними уже обсудите конкр...</td>\n",
       "      <td>(По, поводу, виджетов, и, с, ними, уже, обсуди...</td>\n",
       "    </tr>\n",
       "    <tr>\n",
       "      <th>476</th>\n",
       "      <td>5</td>\n",
       "      <td>139</td>\n",
       "      <td>manager</td>\n",
       "      <td>Все я вам высылаю счет и с вами на связи если ...</td>\n",
       "      <td>(Все, я, вам, высылаю, счет, и, с, вами, на, с...</td>\n",
       "    </tr>\n",
       "    <tr>\n",
       "      <th>477</th>\n",
       "      <td>5</td>\n",
       "      <td>140</td>\n",
       "      <td>client</td>\n",
       "      <td>Спасибо спасибо</td>\n",
       "      <td>(Спасибо, спасибо)</td>\n",
       "    </tr>\n",
       "    <tr>\n",
       "      <th>478</th>\n",
       "      <td>5</td>\n",
       "      <td>141</td>\n",
       "      <td>client</td>\n",
       "      <td>Да да тогда созвонимся ага спасибо вам давайте</td>\n",
       "      <td>(Да, да, тогда, созвонимся, ага, спасибо, вам,...</td>\n",
       "    </tr>\n",
       "    <tr>\n",
       "      <th>479</th>\n",
       "      <td>5</td>\n",
       "      <td>142</td>\n",
       "      <td>manager</td>\n",
       "      <td>Ну до свидания хорошего вечера</td>\n",
       "      <td>(Ну, до, свидания, хорошего, вечера)</td>\n",
       "    </tr>\n",
       "  </tbody>\n",
       "</table>\n",
       "</div>"
      ],
      "text/plain": [
       "     dlg_id  line_n     role  \\\n",
       "475       5     138  manager   \n",
       "476       5     139  manager   \n",
       "477       5     140   client   \n",
       "478       5     141   client   \n",
       "479       5     142  manager   \n",
       "\n",
       "                                                  text  \\\n",
       "475  По поводу виджетов и с ними уже обсудите конкр...   \n",
       "476  Все я вам высылаю счет и с вами на связи если ...   \n",
       "477                                    Спасибо спасибо   \n",
       "478     Да да тогда созвонимся ага спасибо вам давайте   \n",
       "479                     Ну до свидания хорошего вечера   \n",
       "\n",
       "                                           text_parsed  \n",
       "475  (По, поводу, виджетов, и, с, ними, уже, обсуди...  \n",
       "476  (Все, я, вам, высылаю, счет, и, с, вами, на, с...  \n",
       "477                                 (Спасибо, спасибо)  \n",
       "478  (Да, да, тогда, созвонимся, ага, спасибо, вам,...  \n",
       "479               (Ну, до, свидания, хорошего, вечера)  "
      ]
     },
     "execution_count": 6,
     "metadata": {},
     "output_type": "execute_result"
    }
   ],
   "source": [
    "df.tail()"
   ]
  },
  {
   "cell_type": "code",
   "execution_count": 7,
   "id": "79d4a862",
   "metadata": {},
   "outputs": [
    {
     "data": {
      "text/html": [
       "<div>\n",
       "<style scoped>\n",
       "    .dataframe tbody tr th:only-of-type {\n",
       "        vertical-align: middle;\n",
       "    }\n",
       "\n",
       "    .dataframe tbody tr th {\n",
       "        vertical-align: top;\n",
       "    }\n",
       "\n",
       "    .dataframe thead th {\n",
       "        text-align: right;\n",
       "    }\n",
       "</style>\n",
       "<table border=\"1\" class=\"dataframe\">\n",
       "  <thead>\n",
       "    <tr style=\"text-align: right;\">\n",
       "      <th></th>\n",
       "      <th>dlg_id</th>\n",
       "      <th>line_n</th>\n",
       "      <th>role</th>\n",
       "      <th>text</th>\n",
       "      <th>text_parsed</th>\n",
       "    </tr>\n",
       "  </thead>\n",
       "  <tbody>\n",
       "    <tr>\n",
       "      <th>1</th>\n",
       "      <td>0</td>\n",
       "      <td>1</td>\n",
       "      <td>manager</td>\n",
       "      <td>Алло здравствуйте</td>\n",
       "      <td>(Алло, здравствуйте)</td>\n",
       "    </tr>\n",
       "    <tr>\n",
       "      <th>3</th>\n",
       "      <td>0</td>\n",
       "      <td>3</td>\n",
       "      <td>manager</td>\n",
       "      <td>Меня зовут ангелина компания диджитал бизнес з...</td>\n",
       "      <td>(Меня, зовут, ангелина, компания, диджитал, би...</td>\n",
       "    </tr>\n",
       "    <tr>\n",
       "      <th>5</th>\n",
       "      <td>0</td>\n",
       "      <td>5</td>\n",
       "      <td>manager</td>\n",
       "      <td>Угу ну возможно вы рассмотрите и другие вариан...</td>\n",
       "      <td>(Угу, ну, возможно, вы, рассмотрите, и, другие...</td>\n",
       "    </tr>\n",
       "    <tr>\n",
       "      <th>8</th>\n",
       "      <td>0</td>\n",
       "      <td>8</td>\n",
       "      <td>manager</td>\n",
       "      <td>Угу а на что вы обращаете внимание при выборе</td>\n",
       "      <td>(Угу, а, на, что, вы, обращаете, внимание, при...</td>\n",
       "    </tr>\n",
       "    <tr>\n",
       "      <th>11</th>\n",
       "      <td>0</td>\n",
       "      <td>11</td>\n",
       "      <td>manager</td>\n",
       "      <td>Что для вас приоритет</td>\n",
       "      <td>(Что, для, вас, приоритет)</td>\n",
       "    </tr>\n",
       "    <tr>\n",
       "      <th>...</th>\n",
       "      <td>...</td>\n",
       "      <td>...</td>\n",
       "      <td>...</td>\n",
       "      <td>...</td>\n",
       "      <td>...</td>\n",
       "    </tr>\n",
       "    <tr>\n",
       "      <th>472</th>\n",
       "      <td>5</td>\n",
       "      <td>135</td>\n",
       "      <td>manager</td>\n",
       "      <td>Так дмитрий</td>\n",
       "      <td>(Так, дмитрий)</td>\n",
       "    </tr>\n",
       "    <tr>\n",
       "      <th>473</th>\n",
       "      <td>5</td>\n",
       "      <td>136</td>\n",
       "      <td>manager</td>\n",
       "      <td>Все записала тогда завтра ждите звонка</td>\n",
       "      <td>(Все, записала, тогда, завтра, ждите, звонка)</td>\n",
       "    </tr>\n",
       "    <tr>\n",
       "      <th>475</th>\n",
       "      <td>5</td>\n",
       "      <td>138</td>\n",
       "      <td>manager</td>\n",
       "      <td>По поводу виджетов и с ними уже обсудите конкр...</td>\n",
       "      <td>(По, поводу, виджетов, и, с, ними, уже, обсуди...</td>\n",
       "    </tr>\n",
       "    <tr>\n",
       "      <th>476</th>\n",
       "      <td>5</td>\n",
       "      <td>139</td>\n",
       "      <td>manager</td>\n",
       "      <td>Все я вам высылаю счет и с вами на связи если ...</td>\n",
       "      <td>(Все, я, вам, высылаю, счет, и, с, вами, на, с...</td>\n",
       "    </tr>\n",
       "    <tr>\n",
       "      <th>479</th>\n",
       "      <td>5</td>\n",
       "      <td>142</td>\n",
       "      <td>manager</td>\n",
       "      <td>Ну до свидания хорошего вечера</td>\n",
       "      <td>(Ну, до, свидания, хорошего, вечера)</td>\n",
       "    </tr>\n",
       "  </tbody>\n",
       "</table>\n",
       "<p>201 rows × 5 columns</p>\n",
       "</div>"
      ],
      "text/plain": [
       "     dlg_id  line_n     role  \\\n",
       "1         0       1  manager   \n",
       "3         0       3  manager   \n",
       "5         0       5  manager   \n",
       "8         0       8  manager   \n",
       "11        0      11  manager   \n",
       "..      ...     ...      ...   \n",
       "472       5     135  manager   \n",
       "473       5     136  manager   \n",
       "475       5     138  manager   \n",
       "476       5     139  manager   \n",
       "479       5     142  manager   \n",
       "\n",
       "                                                  text  \\\n",
       "1                                    Алло здравствуйте   \n",
       "3    Меня зовут ангелина компания диджитал бизнес з...   \n",
       "5    Угу ну возможно вы рассмотрите и другие вариан...   \n",
       "8        Угу а на что вы обращаете внимание при выборе   \n",
       "11                               Что для вас приоритет   \n",
       "..                                                 ...   \n",
       "472                                        Так дмитрий   \n",
       "473             Все записала тогда завтра ждите звонка   \n",
       "475  По поводу виджетов и с ними уже обсудите конкр...   \n",
       "476  Все я вам высылаю счет и с вами на связи если ...   \n",
       "479                     Ну до свидания хорошего вечера   \n",
       "\n",
       "                                           text_parsed  \n",
       "1                                 (Алло, здравствуйте)  \n",
       "3    (Меня, зовут, ангелина, компания, диджитал, би...  \n",
       "5    (Угу, ну, возможно, вы, рассмотрите, и, другие...  \n",
       "8    (Угу, а, на, что, вы, обращаете, внимание, при...  \n",
       "11                          (Что, для, вас, приоритет)  \n",
       "..                                                 ...  \n",
       "472                                     (Так, дмитрий)  \n",
       "473      (Все, записала, тогда, завтра, ждите, звонка)  \n",
       "475  (По, поводу, виджетов, и, с, ними, уже, обсуди...  \n",
       "476  (Все, я, вам, высылаю, счет, и, с, вами, на, с...  \n",
       "479               (Ну, до, свидания, хорошего, вечера)  \n",
       "\n",
       "[201 rows x 5 columns]"
      ]
     },
     "execution_count": 7,
     "metadata": {},
     "output_type": "execute_result"
    }
   ],
   "source": [
    "#Выделяем строки с ответами менеджера в отдельный датафрейм\n",
    "df_manager = df[df['role'].isin(['manager'])]\n",
    "df_manager"
   ]
  },
  {
   "cell_type": "code",
   "execution_count": 8,
   "id": "ff879f91",
   "metadata": {},
   "outputs": [],
   "source": [
    "# Запишем шаблоны регулярных выражений\n",
    "#приветствие\n",
    "greeting = r'(добрый.*?день)|(день.*?добрый)|(доброе.*?утро)|(добрый.*?вечер)|(здравствуйте)'\n",
    "#представление\n",
    "introdusing = r'(меня.*?зовут)'\n",
    "#имя менеджера\n",
    "manager_name = r'(зовут.*?ангелина)|(зовут)|(максим)|(анастасия)'\n",
    "#наименование компании\n",
    "company_name = r'(диджитал.*?бизнес)'\n",
    "#прощание\n",
    "goodbye = r'(всего.*?доброго)|(до.*?свидания)'"
   ]
  },
  {
   "cell_type": "code",
   "execution_count": 9,
   "id": "fa0075ac",
   "metadata": {},
   "outputs": [
    {
     "name": "stderr",
     "output_type": "stream",
     "text": [
      "C:\\Users\\Oleg\\AppData\\Local\\Temp/ipykernel_3312/2205352745.py:2: SettingWithCopyWarning: \n",
      "A value is trying to be set on a copy of a slice from a DataFrame.\n",
      "Try using .loc[row_indexer,col_indexer] = value instead\n",
      "\n",
      "See the caveats in the documentation: https://pandas.pydata.org/pandas-docs/stable/user_guide/indexing.html#returning-a-view-versus-a-copy\n",
      "  df_manager['greeting'] = df_manager['text_parsed'].apply(lambda x: True if re.search(greeting, str(x).lower()) else False) #другой вариант: obr = df[' Обращение '].str.lower().str.contains(r)\n"
     ]
    }
   ],
   "source": [
    "#Для каждой строки ищем шаблон приветствия в столбце «text_parsed».\n",
    "df_manager['greeting'] = df_manager['text_parsed'].apply(lambda x: True if re.search(greeting, str(x).lower()) else False)"
   ]
  },
  {
   "cell_type": "code",
   "execution_count": 10,
   "id": "0dc3fc53",
   "metadata": {},
   "outputs": [
    {
     "name": "stderr",
     "output_type": "stream",
     "text": [
      "C:\\Users\\Oleg\\AppData\\Local\\Temp/ipykernel_3312/2515863096.py:2: SettingWithCopyWarning: \n",
      "A value is trying to be set on a copy of a slice from a DataFrame.\n",
      "Try using .loc[row_indexer,col_indexer] = value instead\n",
      "\n",
      "See the caveats in the documentation: https://pandas.pydata.org/pandas-docs/stable/user_guide/indexing.html#returning-a-view-versus-a-copy\n",
      "  df_manager['introdusing'] = df_manager['text_parsed'].apply(lambda x: True if re.search(introdusing, str(x).lower()) else False) #другой вариант: obr = df[' Обращение '].str.lower().str.contains(r)\n"
     ]
    }
   ],
   "source": [
    "#Для каждой строки ищем шаблон представлени в столбце «text_parsed».\n",
    "df_manager['introdusing'] = df_manager['text_parsed'].apply(lambda x: True if re.search(introdusing, str(x).lower()) else False) "
   ]
  },
  {
   "cell_type": "code",
   "execution_count": 11,
   "id": "ef566292",
   "metadata": {},
   "outputs": [
    {
     "name": "stderr",
     "output_type": "stream",
     "text": [
      "C:\\Users\\Oleg\\AppData\\Local\\Temp/ipykernel_3312/2201697930.py:2: SettingWithCopyWarning: \n",
      "A value is trying to be set on a copy of a slice from a DataFrame.\n",
      "Try using .loc[row_indexer,col_indexer] = value instead\n",
      "\n",
      "See the caveats in the documentation: https://pandas.pydata.org/pandas-docs/stable/user_guide/indexing.html#returning-a-view-versus-a-copy\n",
      "  df_manager['manager_name'] = df_manager['text_parsed'].apply(lambda x: True if re.search(manager_name, str(x).lower()) else False) #другой вариант: obr = df[' Обращение '].str.lower().str.contains(r)\n"
     ]
    }
   ],
   "source": [
    "#Для каждой строки ищем шаблон имени менеджера в столбце «text_parsed».\n",
    "df_manager['manager_name'] = df_manager['text_parsed'].apply(lambda x: True if re.search(manager_name, str(x).lower()) else False)"
   ]
  },
  {
   "cell_type": "code",
   "execution_count": 12,
   "id": "76ec9aa6",
   "metadata": {
    "scrolled": true
   },
   "outputs": [
    {
     "name": "stderr",
     "output_type": "stream",
     "text": [
      "C:\\Users\\Oleg\\AppData\\Local\\Temp/ipykernel_3312/576957816.py:2: SettingWithCopyWarning: \n",
      "A value is trying to be set on a copy of a slice from a DataFrame.\n",
      "Try using .loc[row_indexer,col_indexer] = value instead\n",
      "\n",
      "See the caveats in the documentation: https://pandas.pydata.org/pandas-docs/stable/user_guide/indexing.html#returning-a-view-versus-a-copy\n",
      "  df_manager['company_name'] = df_manager['text_parsed'].apply(lambda x: True if re.search(company_name, str(x).lower()) else False) #другой вариант: obr = df[' Обращение '].str.lower().str.\n"
     ]
    }
   ],
   "source": [
    "#Для каждой строки ищем шаблон наименования компании в столбце «text_parsed».\n",
    "df_manager['company_name'] = df_manager['text_parsed'].apply(lambda x: True if re.search(company_name, str(x).lower()) else False)"
   ]
  },
  {
   "cell_type": "code",
   "execution_count": 13,
   "id": "1c3b3f5c",
   "metadata": {},
   "outputs": [
    {
     "name": "stderr",
     "output_type": "stream",
     "text": [
      "C:\\Users\\Oleg\\AppData\\Local\\Temp/ipykernel_3312/695620009.py:2: SettingWithCopyWarning: \n",
      "A value is trying to be set on a copy of a slice from a DataFrame.\n",
      "Try using .loc[row_indexer,col_indexer] = value instead\n",
      "\n",
      "See the caveats in the documentation: https://pandas.pydata.org/pandas-docs/stable/user_guide/indexing.html#returning-a-view-versus-a-copy\n",
      "  df_manager['goodbye']= df_manager['text_parsed'].apply(lambda x: True if re.search(goodbye, str(x).lower()) else False) #другой вариант: obr = df[' Обращение '].str.lower().str.\n"
     ]
    }
   ],
   "source": [
    "#Для каждой строки ищем шаблон прощания в столбце «text_parsed».\n",
    "df_manager['goodbye']= df_manager['text_parsed'].apply(lambda x: True if re.search(goodbye, str(x).lower()) else False)"
   ]
  },
  {
   "cell_type": "code",
   "execution_count": 14,
   "id": "9d4e9719",
   "metadata": {},
   "outputs": [],
   "source": [
    "#Функция проверки условия - менеджер поздоровался и попрощался в диалоге\n",
    "def greetbye(df):\n",
    "    greeting_i = False\n",
    "    goodbye_i = False\n",
    "    greeting_goodbye = False\n",
    "    n=0\n",
    "    for i, row in df.iterrows():\n",
    "        if row['greeting'] == True:\n",
    "            greeting_i = True\n",
    "    for i, row in df.iterrows():    \n",
    "        if row['goodbye'] == True:\n",
    "            goodbye_i = True\n",
    "    if greeting_i == True & goodbye_i == True:\n",
    "        greeting_goodbye = True\n",
    "    return greeting_goodbye"
   ]
  },
  {
   "cell_type": "code",
   "execution_count": 15,
   "id": "83aade02",
   "metadata": {},
   "outputs": [
    {
     "data": {
      "text/plain": [
       "True"
      ]
     },
     "execution_count": 15,
     "metadata": {},
     "output_type": "execute_result"
    }
   ],
   "source": [
    "#Проверка условия - менеджер поздоровался и попрощался в диалоге 0\n",
    "dialog_0 = greetbye(df_manager[df_manager.dlg_id == 0])\n",
    "dialog_0"
   ]
  },
  {
   "cell_type": "code",
   "execution_count": 16,
   "id": "824b879f",
   "metadata": {},
   "outputs": [
    {
     "data": {
      "text/plain": [
       "True"
      ]
     },
     "execution_count": 16,
     "metadata": {},
     "output_type": "execute_result"
    }
   ],
   "source": [
    "#Проверка условия - менеджер поздоровался и попрощался в диалоге 1\n",
    "dialog_1 = greetbye(df_manager[df_manager.dlg_id == 1])\n",
    "dialog_1"
   ]
  },
  {
   "cell_type": "code",
   "execution_count": 17,
   "id": "b907b4c6",
   "metadata": {},
   "outputs": [
    {
     "data": {
      "text/plain": [
       "False"
      ]
     },
     "execution_count": 17,
     "metadata": {},
     "output_type": "execute_result"
    }
   ],
   "source": [
    "#Проверка условия - менеджер поздоровался и попрощался в диалоге 2\n",
    "dialog_2 = greetbye(df_manager[df_manager.dlg_id == 2])\n",
    "dialog_2 "
   ]
  },
  {
   "cell_type": "code",
   "execution_count": 18,
   "id": "425dd32a",
   "metadata": {},
   "outputs": [
    {
     "data": {
      "text/plain": [
       "True"
      ]
     },
     "execution_count": 18,
     "metadata": {},
     "output_type": "execute_result"
    }
   ],
   "source": [
    "#Проверка условия - менеджер поздоровался и попрощался в диалоге 3\n",
    "dialog_3 = greetbye(df_manager[df_manager.dlg_id == 3])\n",
    "dialog_3"
   ]
  },
  {
   "cell_type": "code",
   "execution_count": 19,
   "id": "9f7a8a42",
   "metadata": {},
   "outputs": [
    {
     "data": {
      "text/plain": [
       "False"
      ]
     },
     "execution_count": 19,
     "metadata": {},
     "output_type": "execute_result"
    }
   ],
   "source": [
    "#Проверка условия - менеджер поздоровался и попрощался в диалоге 4\n",
    "dialog_4 = greetbye(df_manager[df_manager.dlg_id == 4])\n",
    "dialog_4"
   ]
  },
  {
   "cell_type": "code",
   "execution_count": 20,
   "id": "a8052d4e",
   "metadata": {},
   "outputs": [
    {
     "data": {
      "text/plain": [
       "False"
      ]
     },
     "execution_count": 20,
     "metadata": {},
     "output_type": "execute_result"
    }
   ],
   "source": [
    "#Проверка условия - менеджер поздоровался и попрощался в диалоге 5\n",
    "dialog_5 = greetbye(df_manager[df_manager.dlg_id == 5])\n",
    "dialog_5"
   ]
  },
  {
   "cell_type": "code",
   "execution_count": 23,
   "id": "8d0b2b4e",
   "metadata": {},
   "outputs": [
    {
     "name": "stderr",
     "output_type": "stream",
     "text": [
      "C:\\Users\\Oleg\\anaconda3\\lib\\site-packages\\pandas\\core\\indexing.py:1817: SettingWithCopyWarning: \n",
      "A value is trying to be set on a copy of a slice from a DataFrame.\n",
      "Try using .loc[row_indexer,col_indexer] = value instead\n",
      "\n",
      "See the caveats in the documentation: https://pandas.pydata.org/pandas-docs/stable/user_guide/indexing.html#returning-a-view-versus-a-copy\n",
      "  self._setitem_single_column(loc, value, pi)\n"
     ]
    }
   ],
   "source": [
    "#Заполняем столбец 'greeting_goodbying' p+значениями True если менеджер поздоровался и попрощался в диалоге, False если нет.\n",
    "for i in range(6):\n",
    "    df_manager.loc[df_manager.dlg_id == i, 'greeting_goodbying'] = greetbye(df_manager[df_manager.dlg_id == i])"
   ]
  },
  {
   "cell_type": "code",
   "execution_count": 26,
   "id": "81def3bc",
   "metadata": {},
   "outputs": [
    {
     "data": {
      "text/html": [
       "<div>\n",
       "<style scoped>\n",
       "    .dataframe tbody tr th:only-of-type {\n",
       "        vertical-align: middle;\n",
       "    }\n",
       "\n",
       "    .dataframe tbody tr th {\n",
       "        vertical-align: top;\n",
       "    }\n",
       "\n",
       "    .dataframe thead th {\n",
       "        text-align: right;\n",
       "    }\n",
       "</style>\n",
       "<table border=\"1\" class=\"dataframe\">\n",
       "  <thead>\n",
       "    <tr style=\"text-align: right;\">\n",
       "      <th></th>\n",
       "      <th>dlg_id</th>\n",
       "      <th>line_n</th>\n",
       "      <th>role</th>\n",
       "      <th>text</th>\n",
       "      <th>text_parsed</th>\n",
       "      <th>greeting</th>\n",
       "      <th>introdusing</th>\n",
       "      <th>manager_name</th>\n",
       "      <th>company_name</th>\n",
       "      <th>goodbye</th>\n",
       "      <th>greeting_goodbying</th>\n",
       "    </tr>\n",
       "  </thead>\n",
       "  <tbody>\n",
       "    <tr>\n",
       "      <th>1</th>\n",
       "      <td>0</td>\n",
       "      <td>1</td>\n",
       "      <td>manager</td>\n",
       "      <td>Алло здравствуйте</td>\n",
       "      <td>(Алло, здравствуйте)</td>\n",
       "      <td>True</td>\n",
       "      <td>False</td>\n",
       "      <td>False</td>\n",
       "      <td>False</td>\n",
       "      <td>False</td>\n",
       "      <td>True</td>\n",
       "    </tr>\n",
       "    <tr>\n",
       "      <th>3</th>\n",
       "      <td>0</td>\n",
       "      <td>3</td>\n",
       "      <td>manager</td>\n",
       "      <td>Меня зовут ангелина компания диджитал бизнес з...</td>\n",
       "      <td>(Меня, зовут, ангелина, компания, диджитал, би...</td>\n",
       "      <td>False</td>\n",
       "      <td>True</td>\n",
       "      <td>True</td>\n",
       "      <td>True</td>\n",
       "      <td>False</td>\n",
       "      <td>True</td>\n",
       "    </tr>\n",
       "    <tr>\n",
       "      <th>5</th>\n",
       "      <td>0</td>\n",
       "      <td>5</td>\n",
       "      <td>manager</td>\n",
       "      <td>Угу ну возможно вы рассмотрите и другие вариан...</td>\n",
       "      <td>(Угу, ну, возможно, вы, рассмотрите, и, другие...</td>\n",
       "      <td>False</td>\n",
       "      <td>False</td>\n",
       "      <td>False</td>\n",
       "      <td>False</td>\n",
       "      <td>False</td>\n",
       "      <td>True</td>\n",
       "    </tr>\n",
       "    <tr>\n",
       "      <th>8</th>\n",
       "      <td>0</td>\n",
       "      <td>8</td>\n",
       "      <td>manager</td>\n",
       "      <td>Угу а на что вы обращаете внимание при выборе</td>\n",
       "      <td>(Угу, а, на, что, вы, обращаете, внимание, при...</td>\n",
       "      <td>False</td>\n",
       "      <td>False</td>\n",
       "      <td>False</td>\n",
       "      <td>False</td>\n",
       "      <td>False</td>\n",
       "      <td>True</td>\n",
       "    </tr>\n",
       "    <tr>\n",
       "      <th>11</th>\n",
       "      <td>0</td>\n",
       "      <td>11</td>\n",
       "      <td>manager</td>\n",
       "      <td>Что для вас приоритет</td>\n",
       "      <td>(Что, для, вас, приоритет)</td>\n",
       "      <td>False</td>\n",
       "      <td>False</td>\n",
       "      <td>False</td>\n",
       "      <td>False</td>\n",
       "      <td>False</td>\n",
       "      <td>True</td>\n",
       "    </tr>\n",
       "    <tr>\n",
       "      <th>...</th>\n",
       "      <td>...</td>\n",
       "      <td>...</td>\n",
       "      <td>...</td>\n",
       "      <td>...</td>\n",
       "      <td>...</td>\n",
       "      <td>...</td>\n",
       "      <td>...</td>\n",
       "      <td>...</td>\n",
       "      <td>...</td>\n",
       "      <td>...</td>\n",
       "      <td>...</td>\n",
       "    </tr>\n",
       "    <tr>\n",
       "      <th>472</th>\n",
       "      <td>5</td>\n",
       "      <td>135</td>\n",
       "      <td>manager</td>\n",
       "      <td>Так дмитрий</td>\n",
       "      <td>(Так, дмитрий)</td>\n",
       "      <td>False</td>\n",
       "      <td>False</td>\n",
       "      <td>False</td>\n",
       "      <td>False</td>\n",
       "      <td>False</td>\n",
       "      <td>False</td>\n",
       "    </tr>\n",
       "    <tr>\n",
       "      <th>473</th>\n",
       "      <td>5</td>\n",
       "      <td>136</td>\n",
       "      <td>manager</td>\n",
       "      <td>Все записала тогда завтра ждите звонка</td>\n",
       "      <td>(Все, записала, тогда, завтра, ждите, звонка)</td>\n",
       "      <td>False</td>\n",
       "      <td>False</td>\n",
       "      <td>False</td>\n",
       "      <td>False</td>\n",
       "      <td>False</td>\n",
       "      <td>False</td>\n",
       "    </tr>\n",
       "    <tr>\n",
       "      <th>475</th>\n",
       "      <td>5</td>\n",
       "      <td>138</td>\n",
       "      <td>manager</td>\n",
       "      <td>По поводу виджетов и с ними уже обсудите конкр...</td>\n",
       "      <td>(По, поводу, виджетов, и, с, ними, уже, обсуди...</td>\n",
       "      <td>False</td>\n",
       "      <td>False</td>\n",
       "      <td>False</td>\n",
       "      <td>False</td>\n",
       "      <td>False</td>\n",
       "      <td>False</td>\n",
       "    </tr>\n",
       "    <tr>\n",
       "      <th>476</th>\n",
       "      <td>5</td>\n",
       "      <td>139</td>\n",
       "      <td>manager</td>\n",
       "      <td>Все я вам высылаю счет и с вами на связи если ...</td>\n",
       "      <td>(Все, я, вам, высылаю, счет, и, с, вами, на, с...</td>\n",
       "      <td>False</td>\n",
       "      <td>False</td>\n",
       "      <td>False</td>\n",
       "      <td>False</td>\n",
       "      <td>False</td>\n",
       "      <td>False</td>\n",
       "    </tr>\n",
       "    <tr>\n",
       "      <th>479</th>\n",
       "      <td>5</td>\n",
       "      <td>142</td>\n",
       "      <td>manager</td>\n",
       "      <td>Ну до свидания хорошего вечера</td>\n",
       "      <td>(Ну, до, свидания, хорошего, вечера)</td>\n",
       "      <td>False</td>\n",
       "      <td>False</td>\n",
       "      <td>False</td>\n",
       "      <td>False</td>\n",
       "      <td>True</td>\n",
       "      <td>False</td>\n",
       "    </tr>\n",
       "  </tbody>\n",
       "</table>\n",
       "<p>201 rows × 11 columns</p>\n",
       "</div>"
      ],
      "text/plain": [
       "     dlg_id  line_n     role  \\\n",
       "1         0       1  manager   \n",
       "3         0       3  manager   \n",
       "5         0       5  manager   \n",
       "8         0       8  manager   \n",
       "11        0      11  manager   \n",
       "..      ...     ...      ...   \n",
       "472       5     135  manager   \n",
       "473       5     136  manager   \n",
       "475       5     138  manager   \n",
       "476       5     139  manager   \n",
       "479       5     142  manager   \n",
       "\n",
       "                                                  text  \\\n",
       "1                                    Алло здравствуйте   \n",
       "3    Меня зовут ангелина компания диджитал бизнес з...   \n",
       "5    Угу ну возможно вы рассмотрите и другие вариан...   \n",
       "8        Угу а на что вы обращаете внимание при выборе   \n",
       "11                               Что для вас приоритет   \n",
       "..                                                 ...   \n",
       "472                                        Так дмитрий   \n",
       "473             Все записала тогда завтра ждите звонка   \n",
       "475  По поводу виджетов и с ними уже обсудите конкр...   \n",
       "476  Все я вам высылаю счет и с вами на связи если ...   \n",
       "479                     Ну до свидания хорошего вечера   \n",
       "\n",
       "                                           text_parsed  greeting  introdusing  \\\n",
       "1                                 (Алло, здравствуйте)      True        False   \n",
       "3    (Меня, зовут, ангелина, компания, диджитал, би...     False         True   \n",
       "5    (Угу, ну, возможно, вы, рассмотрите, и, другие...     False        False   \n",
       "8    (Угу, а, на, что, вы, обращаете, внимание, при...     False        False   \n",
       "11                          (Что, для, вас, приоритет)     False        False   \n",
       "..                                                 ...       ...          ...   \n",
       "472                                     (Так, дмитрий)     False        False   \n",
       "473      (Все, записала, тогда, завтра, ждите, звонка)     False        False   \n",
       "475  (По, поводу, виджетов, и, с, ними, уже, обсуди...     False        False   \n",
       "476  (Все, я, вам, высылаю, счет, и, с, вами, на, с...     False        False   \n",
       "479               (Ну, до, свидания, хорошего, вечера)     False        False   \n",
       "\n",
       "     manager_name  company_name  goodbye greeting_goodbying  \n",
       "1           False         False    False               True  \n",
       "3            True          True    False               True  \n",
       "5           False         False    False               True  \n",
       "8           False         False    False               True  \n",
       "11          False         False    False               True  \n",
       "..            ...           ...      ...                ...  \n",
       "472         False         False    False              False  \n",
       "473         False         False    False              False  \n",
       "475         False         False    False              False  \n",
       "476         False         False    False              False  \n",
       "479         False         False     True              False  \n",
       "\n",
       "[201 rows x 11 columns]"
      ]
     },
     "execution_count": 26,
     "metadata": {},
     "output_type": "execute_result"
    }
   ],
   "source": [
    "#Итоговый датасет\n",
    "df_manager"
   ]
  },
  {
   "cell_type": "code",
   "execution_count": 28,
   "id": "318d4c8a",
   "metadata": {},
   "outputs": [],
   "source": [
    "#Сохраняем результат парсинга в CSV\n",
    "df_manager.to_csv('test_data_parsed.csv')"
   ]
  },
  {
   "cell_type": "code",
   "execution_count": null,
   "id": "a47e9539",
   "metadata": {},
   "outputs": [],
   "source": []
  }
 ],
 "metadata": {
  "kernelspec": {
   "display_name": "Python 3 (ipykernel)",
   "language": "python",
   "name": "python3"
  },
  "language_info": {
   "codemirror_mode": {
    "name": "ipython",
    "version": 3
   },
   "file_extension": ".py",
   "mimetype": "text/x-python",
   "name": "python",
   "nbconvert_exporter": "python",
   "pygments_lexer": "ipython3",
   "version": "3.9.7"
  }
 },
 "nbformat": 4,
 "nbformat_minor": 5
}
